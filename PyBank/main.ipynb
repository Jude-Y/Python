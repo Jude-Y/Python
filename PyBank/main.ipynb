{
 "cells": [
  {
   "cell_type": "code",
   "execution_count": 89,
   "metadata": {},
   "outputs": [
    {
     "name": "stdout",
     "output_type": "stream",
     "text": [
      "Total Months: 86\n",
      "Net Profit/(Losses): $38382578\n"
     ]
    }
   ],
   "source": [
    "from pathlib import Path\n",
    "import csv\n",
    "\n",
    "csvpath = Path('../PyBank/budget_data.csv')\n",
    "date = []\n",
    "profitandloss = []\n",
    "monthly_change = []\n",
    "line_num = 0\n",
    "\n",
    "with open(csvpath, 'r') as csvfile:\n",
    "    csvreader = csv.reader(csvfile)\n",
    "    header = next(csvreader)\n",
    "    line_num += 1\n",
    "    \n",
    "    \n",
    "    for column in csvreader:\n",
    "        dates = column[0]\n",
    "        date.append(dates)\n",
    "        profitloss = column[1]\n",
    "        profitandloss.append(profitloss)\n",
    "        \n",
    "\n",
    "        \n",
    "total_months = 0\n",
    "net_total = 0\n",
    "average_change = 0\n",
    "greatest_increase_profits = 0\n",
    "greatest_decrease_profits = 0\n",
    "count_net_total = 0\n",
    "greatest_increase_month = []\n",
    "greatest_decrease_month = []\n",
    "\n",
    "\n",
    "total_months = len(date)\n",
    "print(f'Total Months: {total_months}')\n",
    "\n",
    "for num in profitandloss:\n",
    "    net_total += int(num)\n",
    "    count_net_total += 1\n",
    "print(f'Net Profit/(Losses): ${net_total}')\n",
    "\n",
    "\n",
    "\n",
    "\n"
   ]
  },
  {
   "cell_type": "code",
   "execution_count": null,
   "metadata": {},
   "outputs": [],
   "source": []
  }
 ],
 "metadata": {
  "kernelspec": {
   "display_name": "Python 3",
   "language": "python",
   "name": "python3"
  },
  "language_info": {
   "codemirror_mode": {
    "name": "ipython",
    "version": 3
   },
   "file_extension": ".py",
   "mimetype": "text/x-python",
   "name": "python",
   "nbconvert_exporter": "python",
   "pygments_lexer": "ipython3",
   "version": "3.7.9"
  }
 },
 "nbformat": 4,
 "nbformat_minor": 4
}
